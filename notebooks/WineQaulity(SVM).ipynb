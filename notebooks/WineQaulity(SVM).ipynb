{
  "nbformat": 4,
  "nbformat_minor": 0,
  "metadata": {
    "colab": {
      "provenance": []
    },
    "kernelspec": {
      "name": "python3",
      "display_name": "Python 3"
    },
    "language_info": {
      "name": "python"
    }
  },
  "cells": [
    {
      "cell_type": "markdown",
      "source": [
        "**Importing Libraries and ALGO**"
      ],
      "metadata": {
        "id": "OgThoSkz9mrH"
      }
    },
    {
      "cell_type": "code",
      "execution_count": 1,
      "metadata": {
        "id": "EkTLry9O9cpP"
      },
      "outputs": [],
      "source": [
        "import pandas as pd\n",
        "from sklearn.model_selection import train_test_split\n",
        "from sklearn.preprocessing import LabelEncoder,PowerTransformer\n",
        "from sklearn.metrics import classification_report\n",
        "from sklearn.svm import SVC"
      ]
    },
    {
      "cell_type": "markdown",
      "source": [
        "**Importing the Dataset**"
      ],
      "metadata": {
        "id": "uDsfxKxz-EX8"
      }
    },
    {
      "cell_type": "code",
      "source": [
        "red = pd.read_csv('winequality-red.csv', sep=';')\n",
        "white = pd.read_csv('winequality-white.csv', sep=';')\n",
        "red['wine_type'] = 'red'\n",
        "white['wine_type'] = 'white'\n",
        "data = pd.concat([red, white], ignore_index=True)"
      ],
      "metadata": {
        "id": "JSZU27N2-Ciu"
      },
      "execution_count": 2,
      "outputs": []
    },
    {
      "cell_type": "markdown",
      "source": [
        "**Encoding**"
      ],
      "metadata": {
        "id": "zDPyFHJE-QGN"
      }
    },
    {
      "cell_type": "code",
      "source": [
        "le = LabelEncoder()\n",
        "data['wine_type'] = le.fit_transform(data['wine_type'])\n",
        "\n",
        "def classify_quality(score):\n",
        "    if score <= 5:\n",
        "        return 0\n",
        "    elif score == 6:\n",
        "        return 1\n",
        "    else:\n",
        "        return 2\n",
        "\n",
        "\n",
        "data['quality_label'] = data['quality'].apply(classify_quality)\n",
        "data.drop('quality', axis=1, inplace=True)"
      ],
      "metadata": {
        "id": "3TEaE8BK-RwC"
      },
      "execution_count": 3,
      "outputs": []
    },
    {
      "cell_type": "markdown",
      "source": [
        "**Feature Engineering**"
      ],
      "metadata": {
        "id": "vR0FqQfW-VbY"
      }
    },
    {
      "cell_type": "code",
      "source": [
        "data['alcohol_pH'] = data['alcohol'] * data['pH']\n",
        "data['sulphates_density'] = data['sulphates'] * data['density']"
      ],
      "metadata": {
        "id": "E3VDOj3k-Y2Q"
      },
      "execution_count": 4,
      "outputs": []
    },
    {
      "cell_type": "markdown",
      "source": [
        "**Features & Target"
      ],
      "metadata": {
        "id": "LgYE02fA-mcl"
      }
    },
    {
      "cell_type": "code",
      "source": [
        "X = data.drop('quality_label', axis=1)\n",
        "y = data['quality_label']\n",
        "\n",
        "scaler = PowerTransformer()\n",
        "X_scaled = scaler.fit_transform(X)"
      ],
      "metadata": {
        "id": "VkzwIkfF-phg"
      },
      "execution_count": 5,
      "outputs": []
    },
    {
      "cell_type": "markdown",
      "source": [
        "**Train & test Splitting of dataset**"
      ],
      "metadata": {
        "id": "iU_rj-Lt-dei"
      }
    },
    {
      "cell_type": "code",
      "source": [
        "X_train, X_test, y_train, y_test = train_test_split(X_scaled, y, test_size=0.2, stratify=y, random_state=42)\n"
      ],
      "metadata": {
        "id": "25vTBRDg-iH5"
      },
      "execution_count": 6,
      "outputs": []
    },
    {
      "cell_type": "markdown",
      "source": [
        "**Applying ALGO & Evaluate"
      ],
      "metadata": {
        "id": "gUB1bEaH-zKe"
      }
    },
    {
      "cell_type": "code",
      "source": [
        "model = SVC()\n",
        "model.fit(X_train, y_train)\n",
        "y_pred = model.predict(X_test)\n",
        "print(classification_report(y_test, y_pred))"
      ],
      "metadata": {
        "colab": {
          "base_uri": "https://localhost:8080/"
        },
        "id": "j42FcUot-3_P",
        "outputId": "0c4a7f2f-9ab6-4ad5-8c6d-7a8a922394f4"
      },
      "execution_count": 7,
      "outputs": [
        {
          "output_type": "stream",
          "name": "stdout",
          "text": [
            "              precision    recall  f1-score   support\n",
            "\n",
            "           0       0.70      0.66      0.68       477\n",
            "           1       0.57      0.69      0.62       567\n",
            "           2       0.66      0.39      0.49       256\n",
            "\n",
            "    accuracy                           0.62      1300\n",
            "   macro avg       0.64      0.58      0.60      1300\n",
            "weighted avg       0.63      0.62      0.62      1300\n",
            "\n"
          ]
        }
      ]
    }
  ]
}