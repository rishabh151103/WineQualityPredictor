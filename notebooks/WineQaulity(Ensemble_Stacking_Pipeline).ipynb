{
  "nbformat": 4,
  "nbformat_minor": 0,
  "metadata": {
    "colab": {
      "provenance": []
    },
    "kernelspec": {
      "name": "python3",
      "display_name": "Python 3"
    },
    "language_info": {
      "name": "python"
    }
  },
  "cells": [
    {
      "cell_type": "markdown",
      "source": [
        "**Importing Libraries and ALGO**"
      ],
      "metadata": {
        "id": "OgThoSkz9mrH"
      }
    },
    {
      "cell_type": "code",
      "execution_count": 1,
      "metadata": {
        "id": "EkTLry9O9cpP"
      },
      "outputs": [],
      "source": [
        "import pandas as pd\n",
        "from sklearn.model_selection import train_test_split\n",
        "from sklearn.preprocessing import PowerTransformer, LabelEncoder\n",
        "from sklearn.metrics import classification_report\n",
        "from sklearn.ensemble import StackingClassifier\n",
        "from sklearn.linear_model import LogisticRegression\n",
        "from sklearn.neighbors import KNeighborsClassifier\n",
        "from sklearn.svm import SVC\n",
        "from sklearn.tree import DecisionTreeClassifier\n",
        "from sklearn.ensemble import RandomForestClassifier, GradientBoostingClassifier\n",
        "from xgboost import XGBClassifier"
      ]
    },
    {
      "cell_type": "markdown",
      "source": [
        "**Importing the Dataset**"
      ],
      "metadata": {
        "id": "uDsfxKxz-EX8"
      }
    },
    {
      "cell_type": "code",
      "source": [
        "red = pd.read_csv('winequality-red.csv', sep=';')\n",
        "white = pd.read_csv('winequality-white.csv', sep=';')\n",
        "red['wine_type'] = 'red'\n",
        "white['wine_type'] = 'white'\n",
        "data = pd.concat([red, white], ignore_index=True)"
      ],
      "metadata": {
        "id": "JSZU27N2-Ciu"
      },
      "execution_count": 2,
      "outputs": []
    },
    {
      "cell_type": "markdown",
      "source": [
        "**Encoding**"
      ],
      "metadata": {
        "id": "zDPyFHJE-QGN"
      }
    },
    {
      "cell_type": "code",
      "source": [
        "le = LabelEncoder()\n",
        "data['wine_type'] = le.fit_transform(data['wine_type'])\n",
        "\n",
        "def classify_quality(score):\n",
        "    if score <= 5:\n",
        "        return 0\n",
        "    elif score == 6:\n",
        "        return 1\n",
        "    else:\n",
        "        return 2\n",
        "\n",
        "\n",
        "data['quality_label'] = data['quality'].apply(classify_quality)\n",
        "data.drop('quality', axis=1, inplace=True)"
      ],
      "metadata": {
        "id": "3TEaE8BK-RwC"
      },
      "execution_count": 3,
      "outputs": []
    },
    {
      "cell_type": "markdown",
      "source": [
        "**Feature Engineering**"
      ],
      "metadata": {
        "id": "vR0FqQfW-VbY"
      }
    },
    {
      "cell_type": "code",
      "source": [
        "data['alcohol_pH'] = data['alcohol'] * data['pH']\n",
        "data['sulphates_density'] = data['sulphates'] * data['density']"
      ],
      "metadata": {
        "id": "E3VDOj3k-Y2Q"
      },
      "execution_count": 4,
      "outputs": []
    },
    {
      "cell_type": "markdown",
      "source": [
        "**Features & Target"
      ],
      "metadata": {
        "id": "LgYE02fA-mcl"
      }
    },
    {
      "cell_type": "code",
      "source": [
        "X = data.drop('quality_label', axis=1)\n",
        "y = data['quality_label']\n",
        "\n",
        "scaler = PowerTransformer()\n",
        "X_scaled = scaler.fit_transform(X)"
      ],
      "metadata": {
        "id": "VkzwIkfF-phg"
      },
      "execution_count": 7,
      "outputs": []
    },
    {
      "cell_type": "markdown",
      "source": [
        "**Train & test Splitting of dataset**"
      ],
      "metadata": {
        "id": "iU_rj-Lt-dei"
      }
    },
    {
      "cell_type": "code",
      "source": [
        "X_train, X_test, y_train, y_test = train_test_split(X_scaled, y, test_size=0.2, stratify=y, random_state=42)"
      ],
      "metadata": {
        "id": "25vTBRDg-iH5"
      },
      "execution_count": 8,
      "outputs": []
    },
    {
      "cell_type": "markdown",
      "source": [
        "**StackingEnsemble**\n"
      ],
      "metadata": {
        "id": "gUB1bEaH-zKe"
      }
    },
    {
      "cell_type": "code",
      "source": [
        "estimators = [\n",
        "    ('lr', LogisticRegression(max_iter=500)),\n",
        "    ('knn', KNeighborsClassifier(n_neighbors=5)),\n",
        "    ('svc', SVC(probability=True)),\n",
        "    ('dt', DecisionTreeClassifier(max_depth=5)),\n",
        "    ('rf', RandomForestClassifier(n_estimators=300, random_state=42)),\n",
        "    ('gb', GradientBoostingClassifier(n_estimators=300, learning_rate=0.1, random_state=42)),\n",
        "    ('xgb', XGBClassifier(n_estimators=300, learning_rate=0.1, max_depth=5, subsample=0.8, random_state=42))\n",
        "]\n",
        "\n",
        "stack_model = StackingClassifier(\n",
        "    estimators=estimators,\n",
        "    final_estimator=RandomForestClassifier(n_estimators=200, random_state=42),\n",
        "    cv=5,\n",
        "    n_jobs=-1\n",
        ")"
      ],
      "metadata": {
        "id": "j42FcUot-3_P"
      },
      "execution_count": 9,
      "outputs": []
    },
    {
      "cell_type": "markdown",
      "source": [
        "**Train,Predict&Report**"
      ],
      "metadata": {
        "id": "oOzwvZyTIogJ"
      }
    },
    {
      "cell_type": "code",
      "source": [
        "stack_model.fit(X_train, y_train)\n",
        "\n",
        "\n",
        "y_pred = stack_model.predict(X_test)\n",
        "\n",
        "\n",
        "print(classification_report(y_test, y_pred))"
      ],
      "metadata": {
        "colab": {
          "base_uri": "https://localhost:8080/"
        },
        "id": "Wii5xC7VIrFk",
        "outputId": "7c5c5b7a-d890-4725-d977-130e2fdeb9e9"
      },
      "execution_count": 10,
      "outputs": [
        {
          "output_type": "stream",
          "name": "stdout",
          "text": [
            "              precision    recall  f1-score   support\n",
            "\n",
            "           0       0.77      0.76      0.77       477\n",
            "           1       0.69      0.72      0.70       567\n",
            "           2       0.73      0.66      0.70       256\n",
            "\n",
            "    accuracy                           0.73      1300\n",
            "   macro avg       0.73      0.72      0.72      1300\n",
            "weighted avg       0.73      0.73      0.73      1300\n",
            "\n"
          ]
        }
      ]
    }
  ]
}