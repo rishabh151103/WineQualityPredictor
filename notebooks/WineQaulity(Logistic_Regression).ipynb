{
  "nbformat": 4,
  "nbformat_minor": 0,
  "metadata": {
    "colab": {
      "provenance": []
    },
    "kernelspec": {
      "name": "python3",
      "display_name": "Python 3"
    },
    "language_info": {
      "name": "python"
    }
  },
  "cells": [
    {
      "cell_type": "markdown",
      "source": [
        "**Importing the Libraries and ALGOS**"
      ],
      "metadata": {
        "id": "IXBOygLK53LD"
      }
    },
    {
      "cell_type": "code",
      "execution_count": 2,
      "metadata": {
        "id": "Lt76rLQ71mZS"
      },
      "outputs": [],
      "source": [
        "import pandas as pd\n",
        "from sklearn.model_selection import train_test_split\n",
        "from sklearn.preprocessing import LabelEncoder,PowerTransformer\n",
        "from sklearn.metrics import classification_report\n",
        "from sklearn.linear_model import LogisticRegression"
      ]
    },
    {
      "cell_type": "markdown",
      "source": [
        "**Importing the Dataset**"
      ],
      "metadata": {
        "id": "BEREpNyL6c_k"
      }
    },
    {
      "cell_type": "code",
      "source": [
        "red = pd.read_csv('winequality-red.csv', sep=';')\n",
        "white = pd.read_csv('winequality-white.csv', sep=';')\n",
        "red['wine_type'] = 'red'\n",
        "white['wine_type'] = 'white'\n",
        "data = pd.concat([red, white], ignore_index=True)"
      ],
      "metadata": {
        "id": "Jd2ebsVr6hi7"
      },
      "execution_count": 3,
      "outputs": []
    },
    {
      "cell_type": "markdown",
      "source": [
        "**Encoding**"
      ],
      "metadata": {
        "id": "lZkz4sJO6vZA"
      }
    },
    {
      "cell_type": "code",
      "source": [
        "le = LabelEncoder()\n",
        "data['wine_type'] = le.fit_transform(data['wine_type'])\n",
        "\n",
        "def classify_quality(score):\n",
        "    if score <= 5:\n",
        "        return 0\n",
        "    elif score == 6:\n",
        "        return 1\n",
        "    else:\n",
        "        return 2\n",
        "\n",
        "\n",
        "data['quality_label'] = data['quality'].apply(classify_quality)\n",
        "data.drop('quality', axis=1, inplace=True)"
      ],
      "metadata": {
        "id": "YlObClmF6u9L"
      },
      "execution_count": 4,
      "outputs": []
    },
    {
      "cell_type": "markdown",
      "source": [
        "**Feature Engineering**"
      ],
      "metadata": {
        "id": "27-z1oum63uC"
      }
    },
    {
      "cell_type": "code",
      "source": [
        "data['alcohol_pH'] = data['alcohol'] * data['pH']\n",
        "data['sulphates_density'] = data['sulphates'] * data['density']"
      ],
      "metadata": {
        "id": "OsX3nJ6v65-d"
      },
      "execution_count": 5,
      "outputs": []
    },
    {
      "cell_type": "markdown",
      "source": [
        "**Features & Target**"
      ],
      "metadata": {
        "id": "GTTe9uVv7Cjp"
      }
    },
    {
      "cell_type": "code",
      "source": [
        "X = data.drop('quality_label', axis=1)\n",
        "y = data['quality_label']\n",
        "\n",
        "\n",
        "scaler = PowerTransformer()\n",
        "X_scaled = scaler.fit_transform(X)"
      ],
      "metadata": {
        "id": "dCOb_hHj7GSh"
      },
      "execution_count": 6,
      "outputs": []
    },
    {
      "cell_type": "markdown",
      "source": [
        "**Train & Test Split**"
      ],
      "metadata": {
        "id": "M1jt54fG7QRQ"
      }
    },
    {
      "cell_type": "code",
      "source": [
        "X_train, X_test, y_train, y_test = train_test_split(X_scaled, y, test_size=0.2, stratify=y, random_state=42)"
      ],
      "metadata": {
        "id": "1vAL2DDY7TMv"
      },
      "execution_count": 7,
      "outputs": []
    },
    {
      "cell_type": "markdown",
      "source": [
        "**ML ALGO & Evalution**"
      ],
      "metadata": {
        "id": "bLYBDfco7U7F"
      }
    },
    {
      "cell_type": "code",
      "source": [
        "model = LogisticRegression(max_iter=1000)\n",
        "model.fit(X_train, y_train)\n",
        "y_pred = model.predict(X_test)\n",
        "print(classification_report(y_test, y_pred))\n"
      ],
      "metadata": {
        "colab": {
          "base_uri": "https://localhost:8080/"
        },
        "id": "0FAasarz7UYX",
        "outputId": "34ac5a80-5d95-4ed9-d3e9-833aa0c156b0"
      },
      "execution_count": 8,
      "outputs": [
        {
          "output_type": "stream",
          "name": "stdout",
          "text": [
            "              precision    recall  f1-score   support\n",
            "\n",
            "           0       0.65      0.65      0.65       477\n",
            "           1       0.54      0.66      0.60       567\n",
            "           2       0.62      0.34      0.44       256\n",
            "\n",
            "    accuracy                           0.59      1300\n",
            "   macro avg       0.61      0.55      0.56      1300\n",
            "weighted avg       0.60      0.59      0.59      1300\n",
            "\n"
          ]
        }
      ]
    }
  ]
}